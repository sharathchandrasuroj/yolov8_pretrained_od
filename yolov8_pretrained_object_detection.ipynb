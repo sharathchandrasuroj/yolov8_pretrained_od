{
 "cells": [
  {
   "cell_type": "markdown",
   "id": "86bb0f42",
   "metadata": {},
   "source": [
    "### Virtual Environment"
   ]
  },
  {
   "cell_type": "code",
   "execution_count": null,
   "id": "8646b52b",
   "metadata": {},
   "outputs": [],
   "source": [
    "#Create virtual environment in anaconda prompt\n",
    "conda create -n yolov8 python == 3.9 -y\n",
    "conda cativate yolov8"
   ]
  },
  {
   "cell_type": "code",
   "execution_count": null,
   "id": "1dbb3acf",
   "metadata": {},
   "outputs": [],
   "source": [
    "#Installing Ultralytics Library\n",
    "pip install ultralytics\n",
    "\n",
    "\n",
    "#check pytorch and cuda versions\n",
    "python\n",
    "import torch\n",
    "torch.cuda.is_available()\n",
    "torch.__version__\n",
    "exit()\n"
   ]
  },
  {
   "cell_type": "code",
   "execution_count": null,
   "id": "63e31133",
   "metadata": {},
   "outputs": [],
   "source": [
    "#Download cuda GPU based pytorch from official website\n",
    "pip3 install torch torchvision torchaudio --index-url https://download.pytorch.org/whl/cu121"
   ]
  },
  {
   "cell_type": "markdown",
   "id": "ed48f9e9",
   "metadata": {},
   "source": [
    "### Download pretrained weights"
   ]
  },
  {
   "cell_type": "code",
   "execution_count": null,
   "id": "fde4fb3d",
   "metadata": {},
   "outputs": [],
   "source": [
    "#Download nano yolov8 nano model pretrained weights\n",
    "https://github.com/ultralytics/assets/releases/download/v8.1.0/yolov8n.pt"
   ]
  },
  {
   "cell_type": "code",
   "execution_count": null,
   "id": "3ef73b3c",
   "metadata": {},
   "outputs": [],
   "source": [
    "%cd yolov8"
   ]
  },
  {
   "cell_type": "markdown",
   "id": "227a2f12",
   "metadata": {},
   "source": [
    "### Object Detection using Yolov8"
   ]
  },
  {
   "cell_type": "code",
   "execution_count": null,
   "id": "1563c153",
   "metadata": {},
   "outputs": [],
   "source": [
    "#ToRealtime object detection,\n",
    "yolo task=detect mode=predict model=yolov8n.pt source=1.jpg conf=0.5 show=True\n",
    "\n",
    "#o/p: runs/detect/predictN/1.jpg"
   ]
  },
  {
   "cell_type": "code",
   "execution_count": null,
   "id": "9910604a",
   "metadata": {},
   "outputs": [],
   "source": [
    "#Object detection on video file\n",
    "yolo task=detect mode=predict model=yolov8n.pt source=video.mp4 conf=0.5 show=True "
   ]
  },
  {
   "cell_type": "code",
   "execution_count": null,
   "id": "68e1e372",
   "metadata": {},
   "outputs": [],
   "source": [
    "#To save Bounding box information\n",
    "yolo task=detect mode=predict model=yolov8n.pt source=1.jpg conf=0.5 show=True save_txt=True\n",
    "\n",
    "#o/p: runs/detect/predictN/labels"
   ]
  },
  {
   "cell_type": "code",
   "execution_count": null,
   "id": "a7cf583e",
   "metadata": {},
   "outputs": [],
   "source": [
    "#To save cropped bounding box class images of images/videos\n",
    "yolo task=detect mode=predict model=yolov8n.pt source=1.jpg conf=0.5 show=True save_crop=True \n",
    "\n",
    "#o/p: runs/detect/predictN/1.jpg"
   ]
  },
  {
   "cell_type": "code",
   "execution_count": null,
   "id": "21cf822e",
   "metadata": {},
   "outputs": [],
   "source": [
    "#To remove bounding box labels(class names and confidence score) are images/videos\n",
    "yolo task=detect mode=predict model=yolov8n.pt source=1.jpg conf=0.5 show=True save_crop=True hide_labels=True hide_conf=True "
   ]
  },
  {
   "cell_type": "code",
   "execution_count": 2,
   "id": "c199f610",
   "metadata": {},
   "outputs": [],
   "source": [
    "#Object detection using webcam\n",
    "yolo task=detect mode=predict model=yolov8n.pt source=0 conf=0.5 show=True \n",
    "\n",
    "\n",
    "# source=0 ---->>>for video camera\n",
    "# sorce = url ---->>> for online web camera\n",
    "# source = test directory ---->>> Real images"
   ]
  },
  {
   "cell_type": "code",
   "execution_count": null,
   "id": "2633e494",
   "metadata": {},
   "outputs": [],
   "source": []
  },
  {
   "cell_type": "markdown",
   "id": "076fb356",
   "metadata": {},
   "source": [
    "### Image Segmentation using yolov8"
   ]
  },
  {
   "cell_type": "code",
   "execution_count": null,
   "id": "5422a7b5",
   "metadata": {},
   "outputs": [],
   "source": [
    "#Delete Runs folder"
   ]
  },
  {
   "cell_type": "code",
   "execution_count": null,
   "id": "581bbfaa",
   "metadata": {},
   "outputs": [],
   "source": [
    "#Download pretrained segmentaion weights yolov8n-seg.pt\n",
    "https://github.com/ultralytics/assets/releases/download/v8.1.0/yolov8n-seg.pt"
   ]
  },
  {
   "cell_type": "code",
   "execution_count": null,
   "id": "e7d0ac71",
   "metadata": {},
   "outputs": [],
   "source": [
    "#For image segmentation\n",
    "yolo task=segment mode=predict model=yolov8n-seg.pt source=1.jpg conf=0.5 show=True "
   ]
  },
  {
   "cell_type": "code",
   "execution_count": null,
   "id": "d4357772",
   "metadata": {},
   "outputs": [],
   "source": [
    "#To Remove bounding box and confident score over the segmented images\n",
    "yolo task=segment mode=predict model=yolov8n-seg.pt source=1.jpg conf=0.5 show=True hide_labels=True hide_conf=True"
   ]
  },
  {
   "cell_type": "code",
   "execution_count": null,
   "id": "919a1079",
   "metadata": {},
   "outputs": [],
   "source": [
    "#To save polygon information of segment\n",
    "yolo task=segment mode=predict model=yolov8n-seg.pt source=1.jpg conf=0.5 hide_labels=True hide_conf=True save_txt=True"
   ]
  },
  {
   "cell_type": "code",
   "execution_count": null,
   "id": "f2ff257a",
   "metadata": {},
   "outputs": [],
   "source": [
    "#segmentation video files\n",
    "yolo task=segment mode=predict model=yolov8n-seg.pt source=videos.mp4 conf=0.5 show=True "
   ]
  },
  {
   "cell_type": "code",
   "execution_count": null,
   "id": "d47083e1",
   "metadata": {},
   "outputs": [],
   "source": []
  },
  {
   "cell_type": "markdown",
   "id": "82a56195",
   "metadata": {},
   "source": [
    "### Image Classification"
   ]
  },
  {
   "cell_type": "code",
   "execution_count": null,
   "id": "f0a4ec88",
   "metadata": {},
   "outputs": [],
   "source": [
    "#Download pretrained classification weights yolov8n-cls.pt  (ImageNet)\n",
    "https://github.com/ultralytics/assets/releases/download/v8.1.0/yolov8n-cls.pt"
   ]
  },
  {
   "cell_type": "code",
   "execution_count": null,
   "id": "a98bde52",
   "metadata": {},
   "outputs": [],
   "source": [
    "yolo task=classify mode=predict model=yolov8n-cls.pt source=1.jpg imgsz=224 "
   ]
  },
  {
   "cell_type": "code",
   "execution_count": null,
   "id": "d63c4190",
   "metadata": {},
   "outputs": [],
   "source": []
  },
  {
   "cell_type": "markdown",
   "id": "b0df8f37",
   "metadata": {},
   "source": [
    "### Export Models -ONNX model"
   ]
  },
  {
   "cell_type": "code",
   "execution_count": null,
   "id": "19635520",
   "metadata": {},
   "outputs": [],
   "source": [
    "#ONNX Model for object detection\n",
    "yolo task=detect mode=export model=yolov8n.pt format=onnx\n",
    "\n",
    "#o/p: yolov8/onnx"
   ]
  },
  {
   "cell_type": "code",
   "execution_count": null,
   "id": "44eaf984",
   "metadata": {},
   "outputs": [],
   "source": [
    "#ONNX Model for object segmentation\n",
    "yolo task=segemnt mode=export model=yolov8n.pt format=onnx\n",
    "\n",
    "#o/p: yolov8/onnx"
   ]
  },
  {
   "cell_type": "code",
   "execution_count": null,
   "id": "dc32ccb5",
   "metadata": {},
   "outputs": [],
   "source": [
    "#TF-Lite Model\n",
    "yolo task=detect/segment mode=export model=yolov8n.pt format=tflite\n",
    "\n",
    "#o/p: yolov8/onnx"
   ]
  },
  {
   "cell_type": "code",
   "execution_count": null,
   "id": "c1068b89",
   "metadata": {},
   "outputs": [],
   "source": []
  },
  {
   "cell_type": "code",
   "execution_count": null,
   "id": "43fee898",
   "metadata": {},
   "outputs": [],
   "source": []
  },
  {
   "cell_type": "markdown",
   "id": "7526b8db",
   "metadata": {},
   "source": [
    "### Object Detection Using Python file"
   ]
  },
  {
   "cell_type": "code",
   "execution_count": null,
   "id": "afdce369",
   "metadata": {},
   "outputs": [],
   "source": [
    "#Create virtual environment \n",
    "Conda create -n yolov8 python=3.9 -y\n",
    "conda activate yolov8"
   ]
  },
  {
   "cell_type": "code",
   "execution_count": null,
   "id": "aa229b04",
   "metadata": {},
   "outputs": [],
   "source": [
    "#To run the object detection model download pretrained detection weights\n",
    "#Create python file predict.py\n",
    "from ultralytics import YOLO\n",
    "\n",
    "model = YOLO(\"yolov8m.pt\")\n",
    "\n",
    "model = predict(source=\"1.jpg\", save=True , conf=0.5 , save_txt=True)   # predicting the model"
   ]
  },
  {
   "cell_type": "code",
   "execution_count": null,
   "id": "6de8429c",
   "metadata": {},
   "outputs": [],
   "source": [
    "#Run predict.py file  from the respective repository\n",
    "# (yolov8) c://users/sharath/yolov8/\n",
    "python predict.py\n",
    "\n",
    "o/p:yolov8/runs/detect/predict"
   ]
  },
  {
   "cell_type": "code",
   "execution_count": null,
   "id": "8c980fc2",
   "metadata": {},
   "outputs": [],
   "source": [
    "#To export the model as ONNX model \n",
    "#Comment predicting the model line in the above code and add export model\n",
    "model.export(format='onnx')"
   ]
  },
  {
   "cell_type": "code",
   "execution_count": null,
   "id": "7a022e21",
   "metadata": {},
   "outputs": [],
   "source": [
    "#To run the object detection on video files\n",
    "#comment exporting model line\n",
    "#uncomment predict model\n",
    "#add video file as source file\n",
    "\n",
    "model = predict(source=\"video.mp4\", save= True, conf=0.5, save_txt=False, show=True)\n"
   ]
  },
  {
   "cell_type": "code",
   "execution_count": null,
   "id": "b58cef70",
   "metadata": {},
   "outputs": [],
   "source": [
    "#re run the model \n",
    "python predict.py"
   ]
  },
  {
   "cell_type": "code",
   "execution_count": null,
   "id": "3587a978",
   "metadata": {},
   "outputs": [],
   "source": []
  },
  {
   "cell_type": "markdown",
   "id": "69ddb070",
   "metadata": {},
   "source": [
    "### Object Segmentation Using Python file"
   ]
  },
  {
   "cell_type": "code",
   "execution_count": null,
   "id": "cd03ffb8",
   "metadata": {},
   "outputs": [],
   "source": [
    "#To run the object segmentation model download pretrained segmentation weights\n",
    "\n",
    "model = YOLO(\"yolov8m-seg.pt\")\n",
    "\n",
    "model = predict(source=\"1.jpg\", save=True , conf=0.5 , save_txt=False,show=True)   # segmentation  the model"
   ]
  },
  {
   "cell_type": "code",
   "execution_count": null,
   "id": "f7d31d71",
   "metadata": {},
   "outputs": [],
   "source": []
  },
  {
   "cell_type": "markdown",
   "id": "70f3fbdd",
   "metadata": {},
   "source": [
    "### Object Classification Using Python file"
   ]
  },
  {
   "cell_type": "code",
   "execution_count": null,
   "id": "79db363f",
   "metadata": {},
   "outputs": [],
   "source": [
    "#To run the object classification model download pretrained classification weights\n",
    "\n",
    "model = YOLO(\"yolov8m-cls.pt\")\n",
    "\n",
    "model = predict(source=\"1.jpg\", save=True , conf=0.5 , save_txt=False,show=True/False)   # predicting the model"
   ]
  },
  {
   "cell_type": "code",
   "execution_count": null,
   "id": "69ff6439",
   "metadata": {},
   "outputs": [],
   "source": []
  },
  {
   "cell_type": "code",
   "execution_count": null,
   "id": "21b87113",
   "metadata": {},
   "outputs": [],
   "source": []
  },
  {
   "cell_type": "code",
   "execution_count": null,
   "id": "e94012bb",
   "metadata": {},
   "outputs": [],
   "source": []
  },
  {
   "cell_type": "code",
   "execution_count": null,
   "id": "3dcfdf1a",
   "metadata": {},
   "outputs": [],
   "source": []
  }
 ],
 "metadata": {
  "kernelspec": {
   "display_name": "Python 3 (ipykernel)",
   "language": "python",
   "name": "python3"
  },
  "language_info": {
   "codemirror_mode": {
    "name": "ipython",
    "version": 3
   },
   "file_extension": ".py",
   "mimetype": "text/x-python",
   "name": "python",
   "nbconvert_exporter": "python",
   "pygments_lexer": "ipython3",
   "version": "3.9.18"
  }
 },
 "nbformat": 4,
 "nbformat_minor": 5
}
